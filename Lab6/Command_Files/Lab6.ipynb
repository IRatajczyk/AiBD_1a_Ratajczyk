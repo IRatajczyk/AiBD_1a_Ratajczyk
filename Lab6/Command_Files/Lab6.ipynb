{
 "cells": [
  {
   "cell_type": "markdown",
   "metadata": {},
   "source": [
    "***Laboratorium 6***\n",
    "\n",
    "***Igor Ratajczyk***"
   ]
  },
  {
   "cell_type": "code",
   "execution_count": 2,
   "metadata": {},
   "outputs": [],
   "source": [
    "import numpy as np\n",
    "import pandas as pd\n",
    "from matplotlib import pyplot as plt\n",
    "#import of required libraries\n"
   ]
  },
  {
   "cell_type": "code",
   "execution_count": 3,
   "metadata": {},
   "outputs": [
    {
     "name": "stdout",
     "output_type": "stream",
     "text": [
      "<class 'pandas.core.frame.DataFrame'>\n",
      "RangeIndex: 530 entries, 0 to 529\n",
      "Data columns (total 6 columns):\n",
      " #   Column           Non-Null Count  Dtype  \n",
      "---  ------           --------------  -----  \n",
      " 0   Unnamed: 0       530 non-null    int64  \n",
      " 1   Dni od zakupu    530 non-null    int64  \n",
      " 2   Marka            530 non-null    object \n",
      " 3   Wiek kupującego  463 non-null    float64\n",
      " 4   Płeć kupującego  530 non-null    object \n",
      " 5   Ocena            530 non-null    float64\n",
      "dtypes: float64(2), int64(2), object(2)\n",
      "memory usage: 25.0+ KB\n"
     ]
    }
   ],
   "source": [
    "data = pd.read_csv(r'..\\Original_Data\\13_DATA')\n",
    "\n",
    "data.head()\n",
    "data.info()"
   ]
  },
  {
   "cell_type": "code",
   "execution_count": 5,
   "metadata": {},
   "outputs": [
    {
     "name": "stdout",
     "output_type": "stream",
     "text": [
      "<class 'pandas.core.frame.DataFrame'>\n",
      "RangeIndex: 530 entries, 0 to 529\n",
      "Data columns (total 6 columns):\n",
      " #   Column  Non-Null Count  Dtype  \n",
      "---  ------  --------------  -----  \n",
      " 0   id      530 non-null    int64  \n",
      " 1   Time    530 non-null    int64  \n",
      " 2   Brand   530 non-null    object \n",
      " 3   Age     463 non-null    float64\n",
      " 4   Gender  530 non-null    object \n",
      " 5   Grade   530 non-null    float64\n",
      "dtypes: float64(2), int64(2), object(2)\n",
      "memory usage: 25.0+ KB\n"
     ]
    }
   ],
   "source": [
    "data.columns = [\"id\",\n",
    "                \"Time\",\n",
    "                \"Brand\",\n",
    "                \"Age\",\n",
    "                \"Gender\",\n",
    "                \"Grade\"]\n",
    "\n",
    "data.info()"
   ]
  },
  {
   "cell_type": "code",
   "execution_count": 6,
   "metadata": {},
   "outputs": [
    {
     "name": "stdout",
     "output_type": "stream",
     "text": [
      "<class 'pandas.core.frame.DataFrame'>\n",
      "Int64Index: 463 entries, 0 to 529\n",
      "Data columns (total 6 columns):\n",
      " #   Column  Non-Null Count  Dtype  \n",
      "---  ------  --------------  -----  \n",
      " 0   id      463 non-null    int64  \n",
      " 1   Time    463 non-null    int64  \n",
      " 2   Brand   463 non-null    object \n",
      " 3   Age     463 non-null    float64\n",
      " 4   Gender  463 non-null    object \n",
      " 5   Grade   463 non-null    float64\n",
      "dtypes: float64(2), int64(2), object(2)\n",
      "memory usage: 25.3+ KB\n"
     ]
    }
   ],
   "source": [
    "cleaned_data = data.dropna()\n",
    "cleaned_data.info()\n",
    "cleaned_data.to_csv(r'..\\Analysis_Data\\cleaned_cleaners.csv')"
   ]
  },
  {
   "cell_type": "code",
   "execution_count": 10,
   "metadata": {},
   "outputs": [
    {
     "data": {
      "text/plain": [
       "Text(0.5, 0, 'liczba dni')"
      ]
     },
     "execution_count": 10,
     "metadata": {},
     "output_type": "execute_result"
    },
    {
     "data": {
      "image/png": "[encoded data removed]",
      "text/plain": [
       "<Figure size 432x288 with 1 Axes>"
      ]
     },
     "metadata": {
      "needs_background": "light"
     },
     "output_type": "display_data"
    }
   ],
   "source": [
    "cleaned_data.Time.hist()\n",
    "plt.title(\"Czas od zakupu\")\n",
    "plt.ylabel(\"liczba ocen\")\n",
    "plt.xlabel(\"liczba dni\")"
   ]
  },
  {
   "cell_type": "code",
   "execution_count": 9,
   "metadata": {},
   "outputs": [
    {
     "data": {
      "text/plain": [
       "Text(0.5, 0, 'marka')"
      ]
     },
     "execution_count": 9,
     "metadata": {},
     "output_type": "execute_result"
    },
    {
     "data": {
      "image/png": "[encoded data removed]",
      "text/plain": [
       "<Figure size 432x288 with 1 Axes>"
      ]
     },
     "metadata": {
      "needs_background": "light"
     },
     "output_type": "display_data"
    }
   ],
   "source": [
    "plt.hist(cleaned_data.Brand)\n",
    "plt.title(\"Historgram zakupionych marek\")\n",
    "plt.ylabel(\"liczba zakupów\")\n",
    "plt.xlabel(\"marka\")"
   ]
  },
  {
   "cell_type": "code",
   "execution_count": 11,
   "metadata": {},
   "outputs": [
    {
     "data": {
      "text/plain": [
       "Text(0.5, 0, 'lat')"
      ]
     },
     "execution_count": 11,
     "metadata": {},
     "output_type": "execute_result"
    },
    {
     "data": {
      "image/png": "[encoded data removed]",
      "text/plain": [
       "<Figure size 432x288 with 1 Axes>"
      ]
     },
     "metadata": {
      "needs_background": "light"
     },
     "output_type": "display_data"
    }
   ],
   "source": [
    "cleaned_data.Age.hist()\n",
    "plt.title(\"Histogram wieku kupujących\")\n",
    "plt.ylabel(\"liczba kupujących\")\n",
    "plt.xlabel(\"lat\")"
   ]
  },
  {
   "cell_type": "code",
   "execution_count": 12,
   "metadata": {},
   "outputs": [
    {
     "data": {
      "text/plain": [
       "Text(0.5, 0, 'płeć')"
      ]
     },
     "execution_count": 12,
     "metadata": {},
     "output_type": "execute_result"
    },
    {
     "data": {
      "image/png": "[encoded data removed]",
      "text/plain": [
       "<Figure size 432x288 with 1 Axes>"
      ]
     },
     "metadata": {
      "needs_background": "light"
     },
     "output_type": "display_data"
    }
   ],
   "source": [
    "cleaned_data.Gender.hist()\n",
    "plt.title(\"Rozkład płci kupujących\")\n",
    "plt.ylabel(\"liczba kupujących\")\n",
    "plt.xlabel(\"płeć\")"
   ]
  },
  {
   "cell_type": "code",
   "execution_count": 13,
   "metadata": {},
   "outputs": [
    {
     "data": {
      "text/plain": [
       "Text(0.5, 0, 'ocena')"
      ]
     },
     "execution_count": 13,
     "metadata": {},
     "output_type": "execute_result"
    },
    {
     "data": {
      "image/png": "[encoded data removed]",
      "text/plain": [
       "<Figure size 432x288 with 1 Axes>"
      ]
     },
     "metadata": {
      "needs_background": "light"
     },
     "output_type": "display_data"
    }
   ],
   "source": [
    "cleaned_data.Grade.hist()\n",
    "plt.title(\"Histogram Ocen kupujących\")\n",
    "plt.ylabel(\"liczba ocen\")\n",
    "plt.xlabel(\"ocena\")"
   ]
  },
  {
   "cell_type": "code",
   "execution_count": null,
   "metadata": {},
   "outputs": [],
   "source": []
  },
  {
   "cell_type": "code",
   "execution_count": null,
   "metadata": {},
   "outputs": [],
   "source": []
  }
 ],
 "metadata": {
  "interpreter": {
   "hash": "5d558446c1fb759358c93107db90c09d949a84c30e93dbec939a1f63d8247942"
  },
  "kernelspec": {
   "display_name": "Python 3.7.11 64-bit ('label': conda)",
   "language": "python",
   "name": "python3"
  },
  "language_info": {
   "codemirror_mode": {
    "name": "ipython",
    "version": 3
   },
   "file_extension": ".py",
   "mimetype": "text/x-python",
   "name": "python",
   "nbconvert_exporter": "python",
   "pygments_lexer": "ipython3",
   "version": "3.7.11"
  },
  "orig_nbformat": 4
 },
 "nbformat": 4,
 "nbformat_minor": 2
}
