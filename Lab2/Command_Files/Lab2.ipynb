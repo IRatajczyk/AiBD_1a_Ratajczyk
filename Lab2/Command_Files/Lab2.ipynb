{
 "cells": [
  {
   "cell_type": "markdown",
   "metadata": {},
   "source": [
    "# Laboratorium 2\n",
    "# Igor Ratajczyk \n"
   ]
  },
  {
   "cell_type": "code",
   "execution_count": null,
   "metadata": {},
   "outputs": [],
   "source": [
    "import numpy as np\n",
    "import pandas as pd\n",
    "from matplotlib import pyplot as plt \n",
    "#import of required libraries"
   ]
  },
  {
   "cell_type": "code",
   "execution_count": 27,
   "metadata": {},
   "outputs": [
    {
     "name": "stdout",
     "output_type": "stream",
     "text": [
      "Initial Data\n",
      "<class 'pandas.core.frame.DataFrame'>\n",
      "RangeIndex: 1013 entries, 0 to 1012\n",
      "Data columns (total 11 columns):\n",
      " #   Column                                                                                                                                                Non-Null Count  Dtype \n",
      "---  ------                                                                                                                                                --------------  ----- \n",
      " 0   In general, how worried are you about earthquakes?                                                                                                    1013 non-null   object\n",
      " 1   How worried are you about the Big One, a massive, catastrophic earthquake?                                                                            1013 non-null   object\n",
      " 2   Do you think the \"Big One\" will occur in your lifetime?                                                                                               1013 non-null   object\n",
      " 3   Have you ever experienced an earthquake?                                                                                                              1006 non-null   object\n",
      " 4   Have you or anyone in your household taken any precautions for an earthquake (packed an earthquake survival kit, prepared an evacuation plan, etc.)?  1006 non-null   object\n",
      " 5   How familiar are you with the San Andreas Fault line?                                                                                                 1001 non-null   object\n",
      " 6   How familiar are you with the Yellowstone Supervolcano?                                                                                               1001 non-null   object\n",
      " 7   Age                                                                                                                                                   1001 non-null   object\n",
      " 8   What is your gender?                                                                                                                                  1001 non-null   object\n",
      " 9   How much total combined money did all members of your HOUSEHOLD earn last year?                                                                       1001 non-null   object\n",
      " 10  US Region                                                                                                                                             978 non-null    object\n",
      "dtypes: object(11)\n",
      "memory usage: 87.2+ KB\n"
     ]
    }
   ],
   "source": [
    "data = pd.read_csv(r'..\\Original_Data\\earthquake_data.csv')\n",
    "print(\"Initial Data\")\n",
    "data.head()\n",
    "data.info()\n",
    "#in this cell the reader can get familiar to the very data that is going to be analyzed"
   ]
  },
  {
   "cell_type": "markdown",
   "metadata": {},
   "source": []
  },
  {
   "cell_type": "code",
   "execution_count": 28,
   "metadata": {},
   "outputs": [
    {
     "name": "stdout",
     "output_type": "stream",
     "text": [
      "<class 'pandas.core.frame.DataFrame'>\n",
      "RangeIndex: 1013 entries, 0 to 1012\n",
      "Data columns (total 11 columns):\n",
      " #   Column                                  Non-Null Count  Dtype \n",
      "---  ------                                  --------------  ----- \n",
      " 0   General earthquake worry level          1013 non-null   object\n",
      " 1   BigOne worry level                      1013 non-null   object\n",
      " 2   BigOne in lifetime personal prediction  1013 non-null   object\n",
      " 3   Earthquake experience                   1006 non-null   object\n",
      " 4   Family earthquake precautions           1006 non-null   object\n",
      " 5   Familiarity with SAFL                   1001 non-null   object\n",
      " 6   Familiarity with YS                     1001 non-null   object\n",
      " 7   Age                                     1001 non-null   object\n",
      " 8   Gender                                  1001 non-null   object\n",
      " 9   Annual income                           1001 non-null   object\n",
      " 10  US Region                               978 non-null    object\n",
      "dtypes: object(11)\n",
      "memory usage: 87.2+ KB\n"
     ]
    }
   ],
   "source": [
    "data.columns = [\"General earthquake worry level\",\n",
    "                \"BigOne worry level\", \n",
    "                \"BigOne in lifetime personal prediction\", \n",
    "                \"Earthquake experience\", \n",
    "                \"Family earthquake precautions\", \n",
    "                \"Familiarity with SAFL\", \n",
    "                \"Familiarity with YS\", \n",
    "                \"Age\", \n",
    "                \"Gender\", \n",
    "                \"Annual income\", \n",
    "                \"US Region\"\n",
    "                ]\n",
    "\n",
    "data.head()\n",
    "data.info()\n",
    "#as names of the columns are too long they are changed for their briefer version"
   ]
  },
  {
   "cell_type": "code",
   "execution_count": 29,
   "metadata": {},
   "outputs": [
    {
     "name": "stdout",
     "output_type": "stream",
     "text": [
      "<class 'pandas.core.frame.DataFrame'>\n",
      "Int64Index: 978 entries, 0 to 1011\n",
      "Data columns (total 11 columns):\n",
      " #   Column                                  Non-Null Count  Dtype \n",
      "---  ------                                  --------------  ----- \n",
      " 0   General earthquake worry level          978 non-null    object\n",
      " 1   BigOne worry level                      978 non-null    object\n",
      " 2   BigOne in lifetime personal prediction  978 non-null    object\n",
      " 3   Earthquake experience                   978 non-null    object\n",
      " 4   Family earthquake precautions           978 non-null    object\n",
      " 5   Familiarity with SAFL                   978 non-null    object\n",
      " 6   Familiarity with YS                     978 non-null    object\n",
      " 7   Age                                     978 non-null    object\n",
      " 8   Gender                                  978 non-null    object\n",
      " 9   Annual income                           978 non-null    object\n",
      " 10  US Region                               978 non-null    object\n",
      "dtypes: object(11)\n",
      "memory usage: 91.7+ KB\n"
     ]
    }
   ],
   "source": [
    "cleaned_data = data.dropna()\n",
    "cleaned_data.head()\n",
    "cleaned_data.info()\n",
    "cleaned_data.to_csv(r'..\\Analysis_Data\\earthquake_cleanded_data.csv')\n",
    "#as plenty of data consist of Nans they are dropped and cleaned version is saved as cleaned_data"
   ]
  },
  {
   "cell_type": "code",
   "execution_count": 30,
   "metadata": {},
   "outputs": [
    {
     "name": "stdout",
     "output_type": "stream",
     "text": [
      "<class 'pandas.core.frame.DataFrame'>\n",
      "RangeIndex: 1013 entries, 0 to 1012\n",
      "Data columns (total 3 columns):\n",
      " #   Column                                  Non-Null Count  Dtype \n",
      "---  ------                                  --------------  ----- \n",
      " 0   Age                                     1001 non-null   object\n",
      " 1   Gender                                  1001 non-null   object\n",
      " 2   BigOne in lifetime personal prediction  1013 non-null   object\n",
      "dtypes: object(3)\n",
      "memory usage: 23.9+ KB\n"
     ]
    }
   ],
   "source": [
    "fitted_data = data[[\"Age\",\"Gender\",\"BigOne in lifetime personal prediction\"]].copy()\n",
    "fitted_data.dropna(inplace = True)\n",
    "fitted_data.head()\n",
    "fitted_data.info()\n",
    "fitted_data.to_csv(r'..\\Analysis_Data\\earthquake_chosen_data.csv')\n",
    "\n",
    "#the data is selected and saved as fitted_data.csv\n",
    "\n"
   ]
  },
  {
   "cell_type": "code",
   "execution_count": null,
   "metadata": {},
   "outputs": [],
   "source": []
  }
 ],
 "metadata": {
  "interpreter": {
   "hash": "cb2e2f464878f2165682bb8960ad899901b0fa91b7effaae6eb1132b6718b8bd"
  },
  "kernelspec": {
   "display_name": "Python 3.8.8 64-bit ('base': conda)",
   "name": "python3"
  },
  "language_info": {
   "codemirror_mode": {
    "name": "ipython",
    "version": 3
   },
   "file_extension": ".py",
   "mimetype": "text/x-python",
   "name": "python",
   "nbconvert_exporter": "python",
   "pygments_lexer": "ipython3",
   "version": "3.8.8"
  },
  "orig_nbformat": 4
 },
 "nbformat": 4,
 "nbformat_minor": 2
}
